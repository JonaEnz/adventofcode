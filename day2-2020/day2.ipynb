{
 "cells": [
  {
   "cell_type": "code",
   "execution_count": null,
   "metadata": {
    "dotnet_interactive": {
     "language": "fsharp"
    }
   },
   "outputs": [
    {
     "data": {
      "text/html": [
       "<div class=\"dni-plaintext\">378</div>"
      ]
     },
     "metadata": {},
     "output_type": "display_data"
    }
   ],
   "source": [
    "open System.IO\n",
    "open System\n",
    "\n",
    "let lines = File.ReadAllLines(\"input.txt\") |> Array.toList\n",
    "\n",
    "type Policy = {\n",
    "    min: int32;\n",
    "    max: int32;\n",
    "    char: char;\n",
    "    password: string\n",
    "}\n",
    "\n",
    "let count x c = Seq.filter((=) c) x |> Seq.length\n",
    "\n",
    "lines\n",
    "    |> List.map (fun line -> line.Split(\" \"))\n",
    "    |> List.map (fun list -> \n",
    "        let splitByMinus = list[0].Split(\"-\") |> Array.map int\n",
    "        { min = splitByMinus[0]; max = splitByMinus[1]; char = list[1][0]; password = list[2]}\n",
    "     )\n",
    "    |> List.filter (fun policy -> \n",
    "        let count = count policy.password policy.char\n",
    "        in count >= policy.min && count <= policy.max\n",
    "        )\n",
    "    |> Seq.length\n",
    "\n",
    "\n"
   ]
  },
  {
   "cell_type": "code",
   "execution_count": null,
   "metadata": {
    "dotnet_interactive": {
     "language": "fsharp"
    }
   },
   "outputs": [
    {
     "data": {
      "text/html": [
       "<div class=\"dni-plaintext\">280</div>"
      ]
     },
     "metadata": {},
     "output_type": "display_data"
    }
   ],
   "source": [
    "open System.IO\n",
    "open System\n",
    "\n",
    "let lines = File.ReadAllLines(\"input.txt\") |> Array.toList\n",
    "\n",
    "type Policy = {\n",
    "    contains: int32;\n",
    "    containsNot: int32;\n",
    "    char: char;\n",
    "    password: string\n",
    "}\n",
    "\n",
    "let count x c = Seq.filter((=) c) x |> Seq.length\n",
    "let xor = fun x y -> x && not y || not x && y\n",
    "\n",
    "lines\n",
    "    |> List.map (fun line -> line.Split(\" \"))\n",
    "    |> List.map (fun list -> \n",
    "        let splitByMinus = list[0].Split(\"-\") |> Array.map int\n",
    "        { contains = splitByMinus[0]; containsNot = splitByMinus[1]; char = list[1][0]; password = list[2]}\n",
    "     )\n",
    "    |> List.filter (fun policy ->\n",
    "        xor (policy.password[policy.contains - 1] = policy.char) (policy.password[policy.containsNot - 1] = policy.char)\n",
    "        )\n",
    "    |> Seq.length"
   ]
  }
 ],
 "metadata": {
  "kernelspec": {
   "display_name": ".NET (F#)",
   "language": "F#",
   "name": ".net-fsharp"
  },
  "language_info": {
   "name": "F#"
  }
 },
 "nbformat": 4,
 "nbformat_minor": 2
}
