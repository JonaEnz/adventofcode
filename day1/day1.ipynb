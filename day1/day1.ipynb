{
 "cells": [
  {
   "cell_type": "code",
   "execution_count": null,
   "metadata": {
    "dotnet_interactive": {
     "language": "fsharp"
    }
   },
   "outputs": [
    {
     "name": "stdout",
     "output_type": "stream",
     "text": [
      "1624\r\n"
     ]
    }
   ],
   "source": [
    "//Task 1\n",
    "open System.IO\n",
    "open System\n",
    "\n",
    "let lines = File.ReadAllLines(\"task1.txt\")\n",
    "\n",
    "let list =\n",
    "    lines |> Array.map (fun x -> Int32.Parse(x))\n",
    "\n",
    "let inc =\n",
    "    Array.map2 (fun x y -> x < y) list[0..list.Length - 2] list[1..]\n",
    "\n",
    "let result =\n",
    "    inc\n",
    "    |> Array.filter (fun x -> x)\n",
    "    |> Array.length\n",
    "\n",
    "printfn \"%d\" result"
   ]
  },
  {
   "cell_type": "code",
   "execution_count": null,
   "metadata": {
    "dotnet_interactive": {
     "language": "fsharp"
    }
   },
   "outputs": [
    {
     "name": "stdout",
     "output_type": "stream",
     "text": [
      "1653\r\n"
     ]
    }
   ],
   "source": [
    "//Task 2\n",
    "open System.IO\n",
    "open System\n",
    "\n",
    "let lines = File.ReadAllLines(\"task2.txt\")\n",
    "\n",
    "let list =\n",
    "    lines |> Array.map (fun x -> Int32.Parse(x))\n",
    "\n",
    "let slide =\n",
    "    Array.map (fun i -> list[i-2] + list[i-1] + list[i]) [|2..list.Length - 1|]\n",
    "\n",
    "let inc =\n",
    "    Array.map2 (fun x y -> x < y) slide[0..slide.Length - 2] slide[1..]\n",
    "\n",
    "let result =\n",
    "    inc\n",
    "    |> Array.filter (fun x -> x)\n",
    "    |> Array.length\n",
    "\n",
    "printfn \"%d\" result"
   ]
  }
 ],
 "metadata": {
  "kernelspec": {
   "display_name": ".NET (F#)",
   "language": "F#",
   "name": ".net-fsharp"
  },
  "language_info": {
   "name": "F#"
  }
 },
 "nbformat": 4,
 "nbformat_minor": 2
}
