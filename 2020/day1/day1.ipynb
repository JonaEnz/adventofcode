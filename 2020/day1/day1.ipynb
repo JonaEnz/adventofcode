{
 "cells": [
  {
   "cell_type": "code",
   "execution_count": null,
   "metadata": {
    "dotnet_interactive": {
     "language": "fsharp"
    }
   },
   "outputs": [
    {
     "name": "stdout",
     "output_type": "stream",
     "text": [
      "877971\r\n"
     ]
    }
   ],
   "source": [
    "open System.IO\n",
    "open System\n",
    "\n",
    "let lines = File.ReadAllLines(\"input.txt\") |> Array.map int32 |> Array.toList\n",
    "\n",
    "let rec combinations list =\n",
    "    match list with\n",
    "    | x :: xs -> List.map (fun y -> (x,y)) xs @ combinations xs\n",
    "    | [] -> []\n",
    "\n",
    "lines |> combinations\n",
    "\n",
    "for line in combinations lines do\n",
    "    let (a,b) = line\n",
    "    if a + b = 2020 then printfn \"%d\" (a * b)\n",
    "\n"
   ]
  },
  {
   "cell_type": "code",
   "execution_count": null,
   "metadata": {
    "dotnet_interactive": {
     "language": "fsharp"
    }
   },
   "outputs": [
    {
     "name": "stdout",
     "output_type": "stream",
     "text": [
      "203481432\r\n"
     ]
    }
   ],
   "source": [
    "open System.IO\n",
    "open System\n",
    "\n",
    "let lines = File.ReadAllLines(\"input.txt\") |> Array.map int32 |> Array.toList\n",
    "\n",
    "let rec combinations list =\n",
    "    match list with\n",
    "    | x :: xs -> List.map (fun y -> (x,y)) xs @ combinations xs\n",
    "    | [] -> []\n",
    "\n",
    "let rec combinations3 list =\n",
    "    match list with\n",
    "    | x :: xs -> List.map (fun (y,z) -> (x,y,z)) (combinations xs) @ combinations3 xs\n",
    "    | [] -> []\n",
    "\n",
    "for line in combinations3 lines do\n",
    "    let (a,b,c) = line\n",
    "    if a + b + c = 2020 then printfn \"%d\" (a * b * c)"
   ]
  }
 ],
 "metadata": {
  "kernelspec": {
   "display_name": ".NET (F#)",
   "language": "F#",
   "name": ".net-fsharp"
  },
  "language_info": {
   "name": "F#"
  }
 },
 "nbformat": 4,
 "nbformat_minor": 2
}
