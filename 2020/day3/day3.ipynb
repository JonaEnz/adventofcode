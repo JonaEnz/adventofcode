{
 "cells": [
  {
   "cell_type": "code",
   "execution_count": null,
   "metadata": {
    "dotnet_interactive": {
     "language": "fsharp"
    }
   },
   "outputs": [
    {
     "data": {
      "text/html": [
       "<div class=\"dni-plaintext\">191</div>"
      ]
     },
     "metadata": {},
     "output_type": "display_data"
    }
   ],
   "source": [
    "open System.IO\n",
    "let lines = \n",
    "    File.ReadAllLines(\"input.txt\") |> Array.toList\n",
    "\n",
    "let size_hor = lines[0].Length\n",
    "\n",
    "let isTree (line:string, x:int):bool = line[x % size_hor] = '#'\n",
    "\n",
    "let rec solve(list:list<string>, n:int):int =\n",
    "    match list with\n",
    "    | [] -> 0\n",
    "    | x::xs -> (if isTree(x,n) then 1 else 0) + solve(xs,n+3)\n",
    "\n",
    "solve(lines,0)"
   ]
  },
  {
   "cell_type": "code",
   "execution_count": null,
   "metadata": {
    "dotnet_interactive": {
     "language": "fsharp"
    }
   },
   "outputs": [
    {
     "data": {
      "text/html": [
       "<div class=\"dni-plaintext\">1478615040</div>"
      ]
     },
     "metadata": {},
     "output_type": "display_data"
    }
   ],
   "source": [
    "open System.IO\n",
    "let lines = \n",
    "    File.ReadAllLines(\"input.txt\") |> Array.toList\n",
    "\n",
    "let size_hor = lines[0].Length\n",
    "\n",
    "let isTree (line:string, x:int):bool = line[x % size_hor] = '#'\n",
    "\n",
    "let rec solve list n (step:int) =\n",
    "    match list with\n",
    "    | [] -> 0\n",
    "    | x::xs -> (if isTree(x,n) then 1 else 0) + solve xs (n+step) step\n",
    "\n",
    "solve lines 0 3\n",
    "let everySecond list = list |> List.mapi (fun i e -> (e,i)) |> List.filter (fun (e,i) -> i % 2 = 0) |> List.map (fun (e,i) -> e)\n",
    "\n",
    "let sol = solve lines 0\n",
    "\n",
    "(sol 1)*(sol 3) * (sol 5) * (sol 7) * (solve (everySecond lines) 0 1)\n"
   ]
  }
 ],
 "metadata": {
  "interpreter": {
   "hash": "9df71d9a4821d4c8c15a1da75e04df4f3c1ca3364508fa106729711104af1687"
  },
  "kernelspec": {
   "display_name": ".NET (C#)",
   "language": "C#",
   "name": ".net-csharp"
  },
  "language_info": {
   "file_extension": ".cs",
   "mimetype": "text/x-csharp",
   "name": "C#",
   "pygments_lexer": "csharp",
   "version": "9.0"
  }
 },
 "nbformat": 4,
 "nbformat_minor": 2
}
